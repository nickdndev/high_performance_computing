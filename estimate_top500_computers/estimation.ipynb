{
 "cells": [
  {
   "cell_type": "code",
   "execution_count": 49,
   "metadata": {},
   "outputs": [],
   "source": [
    "import numpy as np\n",
    "import pandas as pd\n",
    "import matplotlib.pyplot as plt\n",
    "from sklearn.linear_model import LinearRegression\n",
    "from sklearn.pipeline import make_pipeline\n",
    "from sklearn.preprocessing import PolynomialFeatures\n",
    "\n",
    "import warnings\n",
    "\n",
    "warnings.filterwarnings(\"ignore\")"
   ]
  },
  {
   "cell_type": "code",
   "execution_count": 143,
   "metadata": {},
   "outputs": [
    {
     "data": {
      "text/html": [
       "<div>\n",
       "<style scoped>\n",
       "    .dataframe tbody tr th:only-of-type {\n",
       "        vertical-align: middle;\n",
       "    }\n",
       "\n",
       "    .dataframe tbody tr th {\n",
       "        vertical-align: top;\n",
       "    }\n",
       "\n",
       "    .dataframe thead th {\n",
       "        text-align: right;\n",
       "    }\n",
       "</style>\n",
       "<table border=\"1\" class=\"dataframe\">\n",
       "  <thead>\n",
       "    <tr style=\"text-align: right;\">\n",
       "      <th></th>\n",
       "      <th>date</th>\n",
       "      <th>sum_gflops</th>\n",
       "      <th>sum_meta</th>\n",
       "      <th>top_1_gflops</th>\n",
       "      <th>top1_meta</th>\n",
       "      <th>top_500_gflops</th>\n",
       "      <th>top500_meta</th>\n",
       "    </tr>\n",
       "  </thead>\n",
       "  <tbody>\n",
       "    <tr>\n",
       "      <th>52</th>\n",
       "      <td>2019-05-01</td>\n",
       "      <td>1.559575e+09</td>\n",
       "      <td>06/2019: Sum = 1.6 EFlop/s</td>\n",
       "      <td>148600000.0</td>\n",
       "      <td>06/2019: #1 = 148.6 PFlop/s</td>\n",
       "      <td>1021000.0</td>\n",
       "      <td>06/2019: #500 = 1.0 PFlop/s]</td>\n",
       "    </tr>\n",
       "    <tr>\n",
       "      <th>53</th>\n",
       "      <td>2019-10-01</td>\n",
       "      <td>1.646887e+09</td>\n",
       "      <td>11/2019: Sum = 1.6 EFlop/s</td>\n",
       "      <td>148600000.0</td>\n",
       "      <td>11/2019: #1 = 148.6 PFlop/s</td>\n",
       "      <td>1142000.0</td>\n",
       "      <td>11/2019: #500 = 1.1 PFlop/s]</td>\n",
       "    </tr>\n",
       "    <tr>\n",
       "      <th>54</th>\n",
       "      <td>2020-05-01</td>\n",
       "      <td>2.206134e+09</td>\n",
       "      <td>06/2020: Sum = 2.2 EFlop/s</td>\n",
       "      <td>415530000.0</td>\n",
       "      <td>06/2020: #1 = 415.5 PFlop/s</td>\n",
       "      <td>1228000.0</td>\n",
       "      <td>06/2020: #500 = 1.2 PFlop/s]</td>\n",
       "    </tr>\n",
       "    <tr>\n",
       "      <th>55</th>\n",
       "      <td>2020-10-01</td>\n",
       "      <td>2.428762e+09</td>\n",
       "      <td>11/2020: Sum = 2.4 EFlop/s</td>\n",
       "      <td>442010000.0</td>\n",
       "      <td>11/2020: #1 = 442.0 PFlop/s</td>\n",
       "      <td>1316840.0</td>\n",
       "      <td>11/2020: #500 = 1.3 PFlop/s]</td>\n",
       "    </tr>\n",
       "    <tr>\n",
       "      <th>56</th>\n",
       "      <td>2021-05-01</td>\n",
       "      <td>2.786059e+09</td>\n",
       "      <td>06/2021: Sum = 2.8 EFlop/s</td>\n",
       "      <td>442010000.0</td>\n",
       "      <td>06/2021: #1 = 442.0 PFlop/s</td>\n",
       "      <td>1511000.0</td>\n",
       "      <td>06/2021: #500 = 1.5 PFlop/s]</td>\n",
       "    </tr>\n",
       "  </tbody>\n",
       "</table>\n",
       "</div>"
      ],
      "text/plain": [
       "         date    sum_gflops                    sum_meta  top_1_gflops  \\\n",
       "52 2019-05-01  1.559575e+09  06/2019: Sum = 1.6 EFlop/s   148600000.0   \n",
       "53 2019-10-01  1.646887e+09  11/2019: Sum = 1.6 EFlop/s   148600000.0   \n",
       "54 2020-05-01  2.206134e+09  06/2020: Sum = 2.2 EFlop/s   415530000.0   \n",
       "55 2020-10-01  2.428762e+09  11/2020: Sum = 2.4 EFlop/s   442010000.0   \n",
       "56 2021-05-01  2.786059e+09  06/2021: Sum = 2.8 EFlop/s   442010000.0   \n",
       "\n",
       "                      top1_meta  top_500_gflops                   top500_meta  \n",
       "52  06/2019: #1 = 148.6 PFlop/s       1021000.0  06/2019: #500 = 1.0 PFlop/s]  \n",
       "53  11/2019: #1 = 148.6 PFlop/s       1142000.0  11/2019: #500 = 1.1 PFlop/s]  \n",
       "54  06/2020: #1 = 415.5 PFlop/s       1228000.0  06/2020: #500 = 1.2 PFlop/s]  \n",
       "55  11/2020: #1 = 442.0 PFlop/s       1316840.0  11/2020: #500 = 1.3 PFlop/s]  \n",
       "56  06/2021: #1 = 442.0 PFlop/s       1511000.0  06/2021: #500 = 1.5 PFlop/s]  "
      ]
     },
     "execution_count": 143,
     "metadata": {},
     "output_type": "execute_result"
    }
   ],
   "source": [
    "row_data_df = pd.read_csv(\n",
    "    \"ranks_per_year.csv\",\n",
    "    names=[\n",
    "        \"date\",\n",
    "        \"sum_gflops\",\n",
    "        \"sum_meta\",\n",
    "        \"top_1_gflops\",\n",
    "        \"top1_meta\",\n",
    "        \"top_500_gflops\",\n",
    "        \"top500_meta\",\n",
    "    ],\n",
    "    parse_dates=[\"date\"],\n",
    ")\n",
    "row_data_df.tail(5)"
   ]
  },
  {
   "cell_type": "code",
   "execution_count": 21,
   "metadata": {},
   "outputs": [
    {
     "data": {
      "text/html": [
       "<div>\n",
       "<style scoped>\n",
       "    .dataframe tbody tr th:only-of-type {\n",
       "        vertical-align: middle;\n",
       "    }\n",
       "\n",
       "    .dataframe tbody tr th {\n",
       "        vertical-align: top;\n",
       "    }\n",
       "\n",
       "    .dataframe thead th {\n",
       "        text-align: right;\n",
       "    }\n",
       "</style>\n",
       "<table border=\"1\" class=\"dataframe\">\n",
       "  <thead>\n",
       "    <tr style=\"text-align: right;\">\n",
       "      <th></th>\n",
       "      <th>date</th>\n",
       "      <th>top_1_gflops</th>\n",
       "      <th>top_500_gflops</th>\n",
       "    </tr>\n",
       "  </thead>\n",
       "  <tbody>\n",
       "    <tr>\n",
       "      <th>0</th>\n",
       "      <td>1993-05-01</td>\n",
       "      <td>59.7</td>\n",
       "      <td>0.42</td>\n",
       "    </tr>\n",
       "    <tr>\n",
       "      <th>1</th>\n",
       "      <td>1993-10-01</td>\n",
       "      <td>124.0</td>\n",
       "      <td>0.47</td>\n",
       "    </tr>\n",
       "    <tr>\n",
       "      <th>2</th>\n",
       "      <td>1994-05-01</td>\n",
       "      <td>143.4</td>\n",
       "      <td>0.84</td>\n",
       "    </tr>\n",
       "    <tr>\n",
       "      <th>3</th>\n",
       "      <td>1994-10-01</td>\n",
       "      <td>170.0</td>\n",
       "      <td>1.16</td>\n",
       "    </tr>\n",
       "    <tr>\n",
       "      <th>4</th>\n",
       "      <td>1995-05-01</td>\n",
       "      <td>170.0</td>\n",
       "      <td>1.96</td>\n",
       "    </tr>\n",
       "  </tbody>\n",
       "</table>\n",
       "</div>"
      ],
      "text/plain": [
       "        date  top_1_gflops  top_500_gflops\n",
       "0 1993-05-01          59.7            0.42\n",
       "1 1993-10-01         124.0            0.47\n",
       "2 1994-05-01         143.4            0.84\n",
       "3 1994-10-01         170.0            1.16\n",
       "4 1995-05-01         170.0            1.96"
      ]
     },
     "execution_count": 21,
     "metadata": {},
     "output_type": "execute_result"
    }
   ],
   "source": [
    "data_df = row_data_df[[\"date\", \"top_1_gflops\", \"top_500_gflops\"]]\n",
    "data_df.head(5)"
   ]
  },
  {
   "cell_type": "markdown",
   "metadata": {},
   "source": [
    "### Perfomance"
   ]
  },
  {
   "cell_type": "code",
   "execution_count": 38,
   "metadata": {},
   "outputs": [
    {
     "data": {
      "image/png": "[encoded data removed]",
      "text/plain": [
       "<Figure size 1080x360 with 1 Axes>"
      ]
     },
     "metadata": {
      "needs_background": "light"
     },
     "output_type": "display_data"
    }
   ],
   "source": [
    "plt.figure(figsize=(15, 5))\n",
    "plt.plot(data_df.date, data_df.top_1_gflops, label='Top-1')\n",
    "plt.plot(data_df.date, data_df.top_500_gflops, label='Top-500')\n",
    "plt.legend();"
   ]
  },
  {
   "cell_type": "markdown",
   "metadata": {},
   "source": [
    "### Log scala perfomance"
   ]
  },
  {
   "cell_type": "code",
   "execution_count": 39,
   "metadata": {},
   "outputs": [
    {
     "data": {
      "image/png": "[encoded data removed]",
      "text/plain": [
       "<Figure size 1080x360 with 1 Axes>"
      ]
     },
     "metadata": {
      "needs_background": "light"
     },
     "output_type": "display_data"
    }
   ],
   "source": [
    "plt.figure(figsize=(15, 5))\n",
    "plt.yscale(\"log\")\n",
    "plt.plot(data_df.date, data_df.top_1_gflops, label='Top-1')\n",
    "plt.plot(data_df.date, data_df.top_500_gflops, label='Top-500')\n",
    "plt.legend();"
   ]
  },
  {
   "cell_type": "markdown",
   "metadata": {},
   "source": [
    "### Train model"
   ]
  },
  {
   "cell_type": "code",
   "execution_count": 128,
   "metadata": {},
   "outputs": [],
   "source": [
    "data_df['log_top_1'] = np.log10(data_df['top_1_gflops'])"
   ]
  },
  {
   "cell_type": "code",
   "execution_count": 129,
   "metadata": {},
   "outputs": [],
   "source": [
    "polynomial_regression = make_pipeline(\n",
    "    PolynomialFeatures(degree=2),\n",
    "    LinearRegression(),\n",
    ")"
   ]
  },
  {
   "cell_type": "code",
   "execution_count": 130,
   "metadata": {},
   "outputs": [],
   "source": [
    "X = np.arange(data_df['top_1_gflops'].shape[0])"
   ]
  },
  {
   "cell_type": "code",
   "execution_count": 131,
   "metadata": {},
   "outputs": [
    {
     "data": {
      "text/plain": [
       "Pipeline(steps=[('polynomialfeatures', PolynomialFeatures()),\n",
       "                ('linearregression', LinearRegression())])"
      ]
     },
     "execution_count": 131,
     "metadata": {},
     "output_type": "execute_result"
    }
   ],
   "source": [
    "polynomial_regression.fit(\n",
    "    X.reshape(-1, 1),\n",
    "    data_df.log_top_1.to_numpy(),\n",
    ")"
   ]
  },
  {
   "cell_type": "code",
   "execution_count": 145,
   "metadata": {},
   "outputs": [],
   "source": [
    "X_predict = np.arange(X.shape[0] + 9).reshape(-1, 1)\n",
    "y_predict = 10**polynomial_regression.predict(X_predict)"
   ]
  },
  {
   "cell_type": "code",
   "execution_count": 136,
   "metadata": {},
   "outputs": [],
   "source": [
    "date_future = pd.to_datetime(\n",
    "    [\n",
    "        \"2021-10-01\",\n",
    "        \"2022-05-01\",\n",
    "        \"2022-10-01\",\n",
    "        \"2023-05-01\",\n",
    "        \"2023-10-01\",\n",
    "        \"2024-05-01\",\n",
    "        \"2024-10-01\",\n",
    "        \"2025-05-01\",\n",
    "        \"2025-10-01\",\n",
    "    ]\n",
    ")"
   ]
  },
  {
   "cell_type": "code",
   "execution_count": 140,
   "metadata": {},
   "outputs": [],
   "source": [
    "date_with_future  = np.concatenate([data_df.date, date_future])"
   ]
  },
  {
   "cell_type": "code",
   "execution_count": 141,
   "metadata": {},
   "outputs": [
    {
     "data": {
      "image/png": "[encoded data removed]",
      "text/plain": [
       "<Figure size 1080x360 with 1 Axes>"
      ]
     },
     "metadata": {
      "needs_background": "light"
     },
     "output_type": "display_data"
    }
   ],
   "source": [
    "plt.figure(figsize=(15, 5))\n",
    "plt.yscale(\"log\")\n",
    "plt.plot(data_df.date, data_df.top_1_gflops, label='Top-1')\n",
    "plt.plot(date_with_future, y_predict, label='Top-1 (Predict)')\n",
    "plt.legend();"
   ]
  },
  {
   "cell_type": "code",
   "execution_count": 150,
   "metadata": {},
   "outputs": [
    {
     "data": {
      "text/plain": [
       "(3225672922.104593,\n",
       " numpy.datetime64('2025-05-01T00:00:00.000000000'),\n",
       " 3929607393.5865917,\n",
       " numpy.datetime64('2025-10-01T00:00:00.000000000'))"
      ]
     },
     "execution_count": 150,
     "metadata": {},
     "output_type": "execute_result"
    }
   ],
   "source": [
    "y_predict[-2], date_with_future[-2], y_predict[-1], date_with_future[-1],"
   ]
  },
  {
   "cell_type": "markdown",
   "metadata": {},
   "source": [
    "```\n",
    "Prediction [2025-05-01] perfomance for Top-1 is: 3.2 EFlop/s\n",
    "Prediction [2025-10-01] perfomance for Top-1 is: 3.9 EFlop/s \n",
    "```"
   ]
  }
 ],
 "metadata": {
  "kernelspec": {
   "display_name": "alfa",
   "language": "python",
   "name": "alfa"
  },
  "language_info": {
   "codemirror_mode": {
    "name": "ipython",
    "version": 3
   },
   "file_extension": ".py",
   "mimetype": "text/x-python",
   "name": "python",
   "nbconvert_exporter": "python",
   "pygments_lexer": "ipython3",
   "version": "3.8.3"
  }
 },
 "nbformat": 4,
 "nbformat_minor": 4
}
